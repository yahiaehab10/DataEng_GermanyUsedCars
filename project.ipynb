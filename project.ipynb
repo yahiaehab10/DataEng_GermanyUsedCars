{
 "cells": [
  {
   "cell_type": "markdown",
   "metadata": {},
   "source": [
    "# Data Exploration"
   ]
  },
  {
   "cell_type": "code",
   "execution_count": null,
   "metadata": {},
   "outputs": [],
   "source": [
    "import pandas as pd\n",
    "import numpy as np\n",
    "\n",
    "df = pd.read_csv(\"data.csv\")"
   ]
  },
  {
   "cell_type": "markdown",
   "metadata": {},
   "source": [
    "## Display Head"
   ]
  },
  {
   "cell_type": "code",
   "execution_count": null,
   "metadata": {},
   "outputs": [],
   "source": [
    "df.head(10)"
   ]
  },
  {
   "cell_type": "markdown",
   "metadata": {},
   "source": [
    "## Description of Data"
   ]
  },
  {
   "cell_type": "code",
   "execution_count": null,
   "metadata": {},
   "outputs": [],
   "source": [
    "print(df.describe())"
   ]
  },
  {
   "cell_type": "markdown",
   "metadata": {},
   "source": [
    "## Data Info"
   ]
  },
  {
   "cell_type": "code",
   "execution_count": null,
   "metadata": {},
   "outputs": [],
   "source": [
    "print(df.info())"
   ]
  },
  {
   "cell_type": "markdown",
   "metadata": {},
   "source": [
    "## Check for Nulls & Duplicates"
   ]
  },
  {
   "cell_type": "markdown",
   "metadata": {},
   "source": [
    "### Check for Nulls"
   ]
  },
  {
   "cell_type": "code",
   "execution_count": null,
   "metadata": {},
   "outputs": [],
   "source": [
    "print(df.isnull().sum())\n"
   ]
  },
  {
   "cell_type": "markdown",
   "metadata": {},
   "source": [
    "### Check for Duplicates"
   ]
  },
  {
   "cell_type": "code",
   "execution_count": null,
   "metadata": {},
   "outputs": [],
   "source": [
    "print(df.duplicated().sum())"
   ]
  },
  {
   "cell_type": "markdown",
   "metadata": {},
   "source": [
    "# Data Cleaning & Visualization"
   ]
  },
  {
   "cell_type": "markdown",
   "metadata": {},
   "source": [
    "## Research Question 1"
   ]
  },
  {
   "cell_type": "markdown",
   "metadata": {},
   "source": [
    "#### Assign Data Types"
   ]
  },
  {
   "cell_type": "code",
   "execution_count": null,
   "metadata": {},
   "outputs": [],
   "source": [
    "import pandas as pd\n",
    "\n",
    "# 1) Remove any string from those attributes and leave the float\n",
    "\n",
    "df[\"fuel_consumption_l_100km\"] = pd.to_numeric(\n",
    "    df[\"fuel_consumption_l_100km\"].replace(regex=True, to_replace=r\"[^0-9.]\", value=\"\"),\n",
    "    errors=\"coerce\",\n",
    ")\n",
    "df[\"power_kw\"] = pd.to_numeric(\n",
    "    df[\"power_kw\"].replace(regex=True, to_replace=r\"[^0-9.]\", value=\"\"), errors=\"coerce\"\n",
    ")\n",
    "\n",
    "# 2) If there is only a string, replace with null\n",
    "\n",
    "df[\"fuel_consumption_l_100km\"] = pd.to_numeric(\n",
    "    df[\"fuel_consumption_l_100km\"], errors=\"coerce\"\n",
    ")\n",
    "df[\"power_kw\"] = pd.to_numeric(df[\"power_kw\"], errors=\"coerce\")\n",
    "\n",
    "# 3) If there is a negative value, replace with 0\n",
    "\n",
    "df[\"fuel_consumption_l_100km\"] = df[\"fuel_consumption_l_100km\"].apply(\n",
    "    lambda x: max(x, 0) if pd.notnull(x) else x\n",
    ")\n",
    "df[\"power_kw\"] = df[\"power_kw\"].apply(lambda x: max(x, 0) if pd.notnull(x) else x)\n",
    "\n",
    "\n",
    "# Price stuff if needed\n",
    "# df[\"price_in_euro\"] = pd.to_numeric(\n",
    "#     df[\"price_in_euro\"].replace(regex=True, to_replace=r\"[^0-9.]\", value=\"\"),\n",
    "#     errors=\"coerce\",\n",
    "# )\n",
    "# df[\"price_in_euro\"] = pd.to_numeric(df[\"price_in_euro\"], errors=\"coerce\")\n",
    "# df[\"price_in_euro\"] = df[\"price_in_euro\"].apply(\n",
    "#     lambda x: max(x, 0) if pd.notnull(x) else x\n",
    "# )"
   ]
  },
  {
   "cell_type": "code",
   "execution_count": null,
   "metadata": {},
   "outputs": [],
   "source": [
    "df.isnull().sum()"
   ]
  },
  {
   "cell_type": "markdown",
   "metadata": {},
   "source": [
    "##### Numerical Imputer"
   ]
  },
  {
   "cell_type": "code",
   "execution_count": null,
   "metadata": {},
   "outputs": [],
   "source": [
    "from sklearn.experimental import enable_iterative_imputer\n",
    "from sklearn.impute import IterativeImputer\n",
    "\n",
    "columns_to_impute = [\"fuel_consumption_l_100km\", \"power_kw\"]\n",
    "\n",
    "# Create IterativeImputer\n",
    "numerical_imputer = IterativeImputer(max_iter=10, random_state=0)\n",
    "df[columns_to_impute] = numerical_imputer.fit_transform(df[columns_to_impute])\n",
    "\n",
    "#Remove Unknown values from the transmission_type column\n",
    "df = df[df.transmission_type != \"Unknown\"]"
   ]
  },
  {
   "cell_type": "code",
   "execution_count": null,
   "metadata": {},
   "outputs": [],
   "source": [
    "df.isnull().sum()"
   ]
  },
  {
   "cell_type": "markdown",
   "metadata": {},
   "source": [
    "##### Handling Outliers"
   ]
  },
  {
   "cell_type": "code",
   "execution_count": null,
   "metadata": {},
   "outputs": [],
   "source": [
    "import pandas as pd\n",
    "from scipy.stats import zscore\n",
    "\n",
    "df[\"power_kw_zscore\"] = zscore(df[\"power_kw\"])\n",
    "\n",
    "# Set a threshold for Z-scores\n",
    "zscore_threshold = 3\n",
    "filtered_df = df[abs(df[\"power_kw_zscore\"]) <= zscore_threshold]\n",
    "\n",
    "# Discretize the filtered power_kw column\n",
    "num_bins = 10\n",
    "filtered_df[\"power_kw_discretized\"] = pd.cut(\n",
    "    filtered_df[\"power_kw\"], bins=num_bins, labels=False\n",
    ")"
   ]
  },
  {
   "cell_type": "markdown",
   "metadata": {},
   "source": [
    "##### Visualization"
   ]
  },
  {
   "cell_type": "code",
   "execution_count": null,
   "metadata": {},
   "outputs": [],
   "source": [
    "import matplotlib.pyplot as plt\n",
    "import seaborn as sns\n",
    "\n",
    "# Scatter plot between power_kw and fuel_consumption_l_100km\n",
    "plt.figure(figsize=(5,5))\n",
    "sns.scatterplot(\n",
    "    data=df,\n",
    "    x=\"power_kw\",\n",
    "    y=\"fuel_consumption_l_100km\",\n",
    "    hue=\"transmission_type\",\n",
    "    palette=\"Set1\",\n",
    "    alpha=0.7,\n",
    ")\n",
    "plt.xlabel(\"Power (kW)\")\n",
    "plt.ylabel(\"Fuel Consumption (L/100km)\")\n",
    "plt.title(\"Scatter Plot: Fuel Consumption vs. Power by Transmission Type\")\n",
    "plt.legend(title=\"Transmission Type\")\n",
    "plt.show()\n",
    "\n",
    "# Scatter plot between transmission_type and fuel_consumption_l_100km\n",
    "plt.figure(figsize=(5,5))\n",
    "sns.scatterplot(\n",
    "    data=df,\n",
    "    x=\"transmission_type\",\n",
    "    y=\"fuel_consumption_l_100km\",\n",
    "    palette=\"Set1\",\n",
    "    alpha=0.7,\n",
    ")\n",
    "plt.xlabel(\"Transmission Type\")\n",
    "plt.ylabel(\"Fuel Consumption (L/100km)\")\n",
    "plt.title(\"Scatter Plot: Fuel Consumption vs. Transmission Type\")\n",
    "plt.show()\n"
   ]
  },
  {
   "cell_type": "markdown",
   "metadata": {},
   "source": [
    "## Research Question 1:\n",
    " #### How does the fuel efficiency (fuel consumption in liters per 100 kilometers) of German used cars in 2023 vary based on their transmission type and power (measured in kilowatts)?\n",
    "\n",
    "\n",
    "#### Power and Fuel Consumption Correlation:\n",
    "##### Fuel usage and power seem to be negatively correlated in general. Powerful cars might have more fuel-efficient engines, which would reduce fuel usage. The engine's efficiency and design have a big impact on this relationship.\n",
    "\n",
    "\n",
    "#### Relationship between Fuel Consumption and Gearbox Type:\n",
    "##### When opposed to manual gearboxes, automatic transmissions are frequently linked to somewhat higher fuel consumption. In some driving situations, automatic transmissions could not be as fuel-efficient because they might need more power to function. Drivers with manual transmissions have more control over changing gears, which may result in increased fuel economy.\n",
    "\n"
   ]
  }
 ],
 "metadata": {
  "kernelspec": {
   "display_name": "Python 3",
   "language": "python",
   "name": "python3"
  },
  "language_info": {
   "codemirror_mode": {
    "name": "ipython",
    "version": 3
   },
   "file_extension": ".py",
   "mimetype": "text/x-python",
   "name": "python",
   "nbconvert_exporter": "python",
   "pygments_lexer": "ipython3",
   "version": "3.11.2"
  }
 },
 "nbformat": 4,
 "nbformat_minor": 2
}
