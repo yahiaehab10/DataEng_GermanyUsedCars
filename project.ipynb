{
 "cells": [
  {
   "cell_type": "markdown",
   "metadata": {},
   "source": [
    "# Data Exploration"
   ]
  },
  {
   "cell_type": "code",
   "execution_count": 1,
   "metadata": {},
   "outputs": [],
   "source": [
    "import pandas as pd\n",
    "import numpy as np\n",
    "\n",
    "df = pd.read_csv(\"data.csv\")"
   ]
  },
  {
   "cell_type": "markdown",
   "metadata": {},
   "source": [
    "## Display Head"
   ]
  },
  {
   "cell_type": "code",
   "execution_count": 2,
   "metadata": {},
   "outputs": [
    {
     "data": {
      "text/html": [
       "<div>\n",
       "<style scoped>\n",
       "    .dataframe tbody tr th:only-of-type {\n",
       "        vertical-align: middle;\n",
       "    }\n",
       "\n",
       "    .dataframe tbody tr th {\n",
       "        vertical-align: top;\n",
       "    }\n",
       "\n",
       "    .dataframe thead th {\n",
       "        text-align: right;\n",
       "    }\n",
       "</style>\n",
       "<table border=\"1\" class=\"dataframe\">\n",
       "  <thead>\n",
       "    <tr style=\"text-align: right;\">\n",
       "      <th></th>\n",
       "      <th>Unnamed: 0</th>\n",
       "      <th>brand</th>\n",
       "      <th>model</th>\n",
       "      <th>color</th>\n",
       "      <th>registration_date</th>\n",
       "      <th>year</th>\n",
       "      <th>price_in_euro</th>\n",
       "      <th>power_kw</th>\n",
       "      <th>power_ps</th>\n",
       "      <th>transmission_type</th>\n",
       "      <th>fuel_type</th>\n",
       "      <th>fuel_consumption_l_100km</th>\n",
       "      <th>fuel_consumption_g_km</th>\n",
       "      <th>mileage_in_km</th>\n",
       "      <th>offer_description</th>\n",
       "    </tr>\n",
       "  </thead>\n",
       "  <tbody>\n",
       "    <tr>\n",
       "      <th>0</th>\n",
       "      <td>0</td>\n",
       "      <td>alfa-romeo</td>\n",
       "      <td>Alfa Romeo GTV</td>\n",
       "      <td>red</td>\n",
       "      <td>10/1995</td>\n",
       "      <td>1995</td>\n",
       "      <td>1300</td>\n",
       "      <td>148</td>\n",
       "      <td>201</td>\n",
       "      <td>Manual</td>\n",
       "      <td>Petrol</td>\n",
       "      <td>10,9 l/100 km</td>\n",
       "      <td>260 g/km</td>\n",
       "      <td>160500.0</td>\n",
       "      <td>2.0 V6 TB</td>\n",
       "    </tr>\n",
       "    <tr>\n",
       "      <th>1</th>\n",
       "      <td>1</td>\n",
       "      <td>alfa-romeo</td>\n",
       "      <td>Alfa Romeo 164</td>\n",
       "      <td>black</td>\n",
       "      <td>02/1995</td>\n",
       "      <td>1995</td>\n",
       "      <td>24900</td>\n",
       "      <td>191</td>\n",
       "      <td>260</td>\n",
       "      <td>Manual</td>\n",
       "      <td>Petrol</td>\n",
       "      <td>NaN</td>\n",
       "      <td>- (g/km)</td>\n",
       "      <td>190000.0</td>\n",
       "      <td>Q4 Allrad, 3.2L GTA</td>\n",
       "    </tr>\n",
       "    <tr>\n",
       "      <th>2</th>\n",
       "      <td>2</td>\n",
       "      <td>alfa-romeo</td>\n",
       "      <td>Alfa Romeo Spider</td>\n",
       "      <td>black</td>\n",
       "      <td>02/1995</td>\n",
       "      <td>1995</td>\n",
       "      <td>5900</td>\n",
       "      <td>110</td>\n",
       "      <td>150</td>\n",
       "      <td>Unknown</td>\n",
       "      <td>Petrol</td>\n",
       "      <td>NaN</td>\n",
       "      <td>- (g/km)</td>\n",
       "      <td>129000.0</td>\n",
       "      <td>ALFA ROME 916</td>\n",
       "    </tr>\n",
       "    <tr>\n",
       "      <th>3</th>\n",
       "      <td>3</td>\n",
       "      <td>alfa-romeo</td>\n",
       "      <td>Alfa Romeo Spider</td>\n",
       "      <td>black</td>\n",
       "      <td>07/1995</td>\n",
       "      <td>1995</td>\n",
       "      <td>4900</td>\n",
       "      <td>110</td>\n",
       "      <td>150</td>\n",
       "      <td>Manual</td>\n",
       "      <td>Petrol</td>\n",
       "      <td>9,5 l/100 km</td>\n",
       "      <td>225 g/km</td>\n",
       "      <td>189500.0</td>\n",
       "      <td>2.0 16V Twin Spark L</td>\n",
       "    </tr>\n",
       "    <tr>\n",
       "      <th>4</th>\n",
       "      <td>4</td>\n",
       "      <td>alfa-romeo</td>\n",
       "      <td>Alfa Romeo 164</td>\n",
       "      <td>red</td>\n",
       "      <td>11/1996</td>\n",
       "      <td>1996</td>\n",
       "      <td>17950</td>\n",
       "      <td>132</td>\n",
       "      <td>179</td>\n",
       "      <td>Manual</td>\n",
       "      <td>Petrol</td>\n",
       "      <td>7,2 l/100 km</td>\n",
       "      <td>- (g/km)</td>\n",
       "      <td>96127.0</td>\n",
       "      <td>3.0i Super V6, absoluter Topzustand !</td>\n",
       "    </tr>\n",
       "    <tr>\n",
       "      <th>5</th>\n",
       "      <td>5</td>\n",
       "      <td>alfa-romeo</td>\n",
       "      <td>Alfa Romeo Spider</td>\n",
       "      <td>red</td>\n",
       "      <td>04/1996</td>\n",
       "      <td>1996</td>\n",
       "      <td>7900</td>\n",
       "      <td>110</td>\n",
       "      <td>150</td>\n",
       "      <td>Manual</td>\n",
       "      <td>Petrol</td>\n",
       "      <td>9,5 l/100 km</td>\n",
       "      <td>225 g/km</td>\n",
       "      <td>47307.0</td>\n",
       "      <td>2.0 16V Twin Spark</td>\n",
       "    </tr>\n",
       "    <tr>\n",
       "      <th>6</th>\n",
       "      <td>6</td>\n",
       "      <td>alfa-romeo</td>\n",
       "      <td>Alfa Romeo 145</td>\n",
       "      <td>red</td>\n",
       "      <td>12/1996</td>\n",
       "      <td>1996</td>\n",
       "      <td>3500</td>\n",
       "      <td>110</td>\n",
       "      <td>150</td>\n",
       "      <td>Manual</td>\n",
       "      <td>Petrol</td>\n",
       "      <td>8,8 l/100 km</td>\n",
       "      <td>210 g/km</td>\n",
       "      <td>230000.0</td>\n",
       "      <td>Quadrifoglio</td>\n",
       "    </tr>\n",
       "    <tr>\n",
       "      <th>7</th>\n",
       "      <td>7</td>\n",
       "      <td>alfa-romeo</td>\n",
       "      <td>Alfa Romeo 164</td>\n",
       "      <td>black</td>\n",
       "      <td>07/1996</td>\n",
       "      <td>1996</td>\n",
       "      <td>5500</td>\n",
       "      <td>132</td>\n",
       "      <td>179</td>\n",
       "      <td>Manual</td>\n",
       "      <td>Petrol</td>\n",
       "      <td>13,4 l/100 km</td>\n",
       "      <td>320 g/km</td>\n",
       "      <td>168000.0</td>\n",
       "      <td>(3.0) V6 Super</td>\n",
       "    </tr>\n",
       "    <tr>\n",
       "      <th>8</th>\n",
       "      <td>8</td>\n",
       "      <td>alfa-romeo</td>\n",
       "      <td>Alfa Romeo Spider</td>\n",
       "      <td>black</td>\n",
       "      <td>07/1996</td>\n",
       "      <td>1996</td>\n",
       "      <td>8990</td>\n",
       "      <td>141</td>\n",
       "      <td>192</td>\n",
       "      <td>Manual</td>\n",
       "      <td>Petrol</td>\n",
       "      <td>11 l/100 km</td>\n",
       "      <td>265 g/km</td>\n",
       "      <td>168600.0</td>\n",
       "      <td>|HU:neu|Klimaanlage|Youngtimer|</td>\n",
       "    </tr>\n",
       "    <tr>\n",
       "      <th>9</th>\n",
       "      <td>9</td>\n",
       "      <td>alfa-romeo</td>\n",
       "      <td>Alfa Romeo Spider</td>\n",
       "      <td>black</td>\n",
       "      <td>01/1996</td>\n",
       "      <td>1996</td>\n",
       "      <td>6976</td>\n",
       "      <td>110</td>\n",
       "      <td>150</td>\n",
       "      <td>Manual</td>\n",
       "      <td>Petrol</td>\n",
       "      <td>9,2 l/100 km</td>\n",
       "      <td>220 g/km</td>\n",
       "      <td>99000.0</td>\n",
       "      <td>2.0 T.Spark L *Klima *2.Hand *Zahnriemen</td>\n",
       "    </tr>\n",
       "  </tbody>\n",
       "</table>\n",
       "</div>"
      ],
      "text/plain": [
       "   Unnamed: 0       brand              model  color registration_date  year  \\\n",
       "0           0  alfa-romeo     Alfa Romeo GTV    red           10/1995  1995   \n",
       "1           1  alfa-romeo     Alfa Romeo 164  black           02/1995  1995   \n",
       "2           2  alfa-romeo  Alfa Romeo Spider  black           02/1995  1995   \n",
       "3           3  alfa-romeo  Alfa Romeo Spider  black           07/1995  1995   \n",
       "4           4  alfa-romeo     Alfa Romeo 164    red           11/1996  1996   \n",
       "5           5  alfa-romeo  Alfa Romeo Spider    red           04/1996  1996   \n",
       "6           6  alfa-romeo     Alfa Romeo 145    red           12/1996  1996   \n",
       "7           7  alfa-romeo     Alfa Romeo 164  black           07/1996  1996   \n",
       "8           8  alfa-romeo  Alfa Romeo Spider  black           07/1996  1996   \n",
       "9           9  alfa-romeo  Alfa Romeo Spider  black           01/1996  1996   \n",
       "\n",
       "  price_in_euro power_kw power_ps transmission_type fuel_type  \\\n",
       "0          1300      148      201            Manual    Petrol   \n",
       "1         24900      191      260            Manual    Petrol   \n",
       "2          5900      110      150           Unknown    Petrol   \n",
       "3          4900      110      150            Manual    Petrol   \n",
       "4         17950      132      179            Manual    Petrol   \n",
       "5          7900      110      150            Manual    Petrol   \n",
       "6          3500      110      150            Manual    Petrol   \n",
       "7          5500      132      179            Manual    Petrol   \n",
       "8          8990      141      192            Manual    Petrol   \n",
       "9          6976      110      150            Manual    Petrol   \n",
       "\n",
       "  fuel_consumption_l_100km fuel_consumption_g_km  mileage_in_km  \\\n",
       "0            10,9 l/100 km              260 g/km       160500.0   \n",
       "1                      NaN              - (g/km)       190000.0   \n",
       "2                      NaN              - (g/km)       129000.0   \n",
       "3             9,5 l/100 km              225 g/km       189500.0   \n",
       "4             7,2 l/100 km              - (g/km)        96127.0   \n",
       "5             9,5 l/100 km              225 g/km        47307.0   \n",
       "6             8,8 l/100 km              210 g/km       230000.0   \n",
       "7            13,4 l/100 km              320 g/km       168000.0   \n",
       "8              11 l/100 km              265 g/km       168600.0   \n",
       "9             9,2 l/100 km              220 g/km        99000.0   \n",
       "\n",
       "                          offer_description  \n",
       "0                                 2.0 V6 TB  \n",
       "1                       Q4 Allrad, 3.2L GTA  \n",
       "2                             ALFA ROME 916  \n",
       "3                      2.0 16V Twin Spark L  \n",
       "4     3.0i Super V6, absoluter Topzustand !  \n",
       "5                        2.0 16V Twin Spark  \n",
       "6                              Quadrifoglio  \n",
       "7                            (3.0) V6 Super  \n",
       "8           |HU:neu|Klimaanlage|Youngtimer|  \n",
       "9  2.0 T.Spark L *Klima *2.Hand *Zahnriemen  "
      ]
     },
     "execution_count": 2,
     "metadata": {},
     "output_type": "execute_result"
    }
   ],
   "source": [
    "df.head(10)"
   ]
  },
  {
   "cell_type": "markdown",
   "metadata": {},
   "source": [
    "## Description of Data"
   ]
  },
  {
   "cell_type": "code",
   "execution_count": 3,
   "metadata": {},
   "outputs": [
    {
     "name": "stdout",
     "output_type": "stream",
     "text": [
      "          Unnamed: 0  mileage_in_km\n",
      "count  251079.000000   2.509270e+05\n",
      "mean   125539.000000   8.534002e+04\n",
      "std     72480.408456   7.871706e+04\n",
      "min         0.000000   0.000000e+00\n",
      "25%     62769.500000   2.490400e+04\n",
      "50%    125539.000000   6.750000e+04\n",
      "75%    188308.500000   1.265000e+05\n",
      "max    251078.000000   3.800000e+06\n"
     ]
    }
   ],
   "source": [
    "print(df.describe())"
   ]
  },
  {
   "cell_type": "markdown",
   "metadata": {},
   "source": [
    "## Data Info"
   ]
  },
  {
   "cell_type": "code",
   "execution_count": 4,
   "metadata": {},
   "outputs": [
    {
     "name": "stdout",
     "output_type": "stream",
     "text": [
      "<class 'pandas.core.frame.DataFrame'>\n",
      "RangeIndex: 251079 entries, 0 to 251078\n",
      "Data columns (total 15 columns):\n",
      " #   Column                    Non-Null Count   Dtype  \n",
      "---  ------                    --------------   -----  \n",
      " 0   Unnamed: 0                251079 non-null  int64  \n",
      " 1   brand                     251079 non-null  object \n",
      " 2   model                     251079 non-null  object \n",
      " 3   color                     250913 non-null  object \n",
      " 4   registration_date         251075 non-null  object \n",
      " 5   year                      251079 non-null  object \n",
      " 6   price_in_euro             251079 non-null  object \n",
      " 7   power_kw                  250945 non-null  object \n",
      " 8   power_ps                  250950 non-null  object \n",
      " 9   transmission_type         251079 non-null  object \n",
      " 10  fuel_type                 251079 non-null  object \n",
      " 11  fuel_consumption_l_100km  224206 non-null  object \n",
      " 12  fuel_consumption_g_km     251079 non-null  object \n",
      " 13  mileage_in_km             250927 non-null  float64\n",
      " 14  offer_description         251078 non-null  object \n",
      "dtypes: float64(1), int64(1), object(13)\n",
      "memory usage: 28.7+ MB\n",
      "None\n"
     ]
    }
   ],
   "source": [
    "print(df.info())"
   ]
  },
  {
   "cell_type": "markdown",
   "metadata": {},
   "source": [
    "## Check for Nulls & Duplicates"
   ]
  },
  {
   "cell_type": "markdown",
   "metadata": {},
   "source": [
    "### Check for Nulls"
   ]
  },
  {
   "cell_type": "code",
   "execution_count": 5,
   "metadata": {},
   "outputs": [
    {
     "name": "stdout",
     "output_type": "stream",
     "text": [
      "Unnamed: 0                      0\n",
      "brand                           0\n",
      "model                           0\n",
      "color                         166\n",
      "registration_date               4\n",
      "year                            0\n",
      "price_in_euro                   0\n",
      "power_kw                      134\n",
      "power_ps                      129\n",
      "transmission_type               0\n",
      "fuel_type                       0\n",
      "fuel_consumption_l_100km    26873\n",
      "fuel_consumption_g_km           0\n",
      "mileage_in_km                 152\n",
      "offer_description               1\n",
      "dtype: int64\n"
     ]
    }
   ],
   "source": [
    "print(df.isnull().sum())\n"
   ]
  },
  {
   "cell_type": "markdown",
   "metadata": {},
   "source": [
    "### Check for Duplicates"
   ]
  },
  {
   "cell_type": "code",
   "execution_count": 6,
   "metadata": {},
   "outputs": [
    {
     "name": "stdout",
     "output_type": "stream",
     "text": [
      "0\n"
     ]
    }
   ],
   "source": [
    "print(df.duplicated().sum())"
   ]
  },
  {
   "cell_type": "markdown",
   "metadata": {},
   "source": [
    "# Data Cleaning & Visualization"
   ]
  },
  {
   "cell_type": "markdown",
   "metadata": {},
   "source": [
    "## Research Question 1"
   ]
  },
  {
   "cell_type": "markdown",
   "metadata": {},
   "source": [
    "#### Removing Wrong Data Type"
   ]
  },
  {
   "cell_type": "code",
   "execution_count": 7,
   "metadata": {},
   "outputs": [],
   "source": [
    "import pandas as pd\n",
    "\n",
    "# 1) Remove any string from those attributes and leave the float\n",
    "\n",
    "df[\"fuel_consumption_l_100km\"] = pd.to_numeric(\n",
    "    df[\"fuel_consumption_l_100km\"].replace(regex=True, to_replace=r\"[^0-9.]\", value=\"\"),\n",
    "    errors=\"coerce\",\n",
    ")\n",
    "df[\"power_kw\"] = pd.to_numeric(\n",
    "    df[\"power_kw\"].replace(regex=True, to_replace=r\"[^0-9.]\", value=\"\"), errors=\"coerce\"\n",
    ")\n",
    "\n",
    "# 2) If there is only a string, replace with null\n",
    "\n",
    "df[\"fuel_consumption_l_100km\"] = pd.to_numeric(\n",
    "    df[\"fuel_consumption_l_100km\"], errors=\"coerce\"\n",
    ")\n",
    "df[\"power_kw\"] = pd.to_numeric(df[\"power_kw\"], errors=\"coerce\")\n",
    "\n",
    "# 3) If there is a negative value, replace with 0\n",
    "\n",
    "df[\"fuel_consumption_l_100km\"] = df[\"fuel_consumption_l_100km\"].apply(\n",
    "    lambda x: max(x, 0) if pd.notnull(x) else x\n",
    ")\n",
    "df[\"power_kw\"] = df[\"power_kw\"].apply(lambda x: max(x, 0) if pd.notnull(x) else x)\n",
    "\n"
   ]
  },
  {
   "cell_type": "markdown",
   "metadata": {},
   "source": [
    "#### Assign Data Types"
   ]
  },
  {
   "cell_type": "code",
   "execution_count": 8,
   "metadata": {},
   "outputs": [],
   "source": [
    "#assign data types to columns\n",
    "df['fuel_consumption_l_100km'] = df['fuel_consumption_l_100km'].astype('float64')\n",
    "df['power_kw'] = df['power_kw'].astype('float64')\n",
    "df['transmission_type'] = df['transmission_type'].astype('category')"
   ]
  },
  {
   "cell_type": "code",
   "execution_count": 9,
   "metadata": {},
   "outputs": [
    {
     "data": {
      "text/plain": [
       "Unnamed: 0                      0\n",
       "brand                           0\n",
       "model                           0\n",
       "color                         166\n",
       "registration_date               4\n",
       "year                            0\n",
       "price_in_euro                   0\n",
       "power_kw                      155\n",
       "power_ps                      129\n",
       "transmission_type               0\n",
       "fuel_type                       0\n",
       "fuel_consumption_l_100km    26922\n",
       "fuel_consumption_g_km           0\n",
       "mileage_in_km                 152\n",
       "offer_description               1\n",
       "dtype: int64"
      ]
     },
     "execution_count": 9,
     "metadata": {},
     "output_type": "execute_result"
    }
   ],
   "source": [
    "df.isnull().sum()"
   ]
  },
  {
   "cell_type": "markdown",
   "metadata": {},
   "source": [
    "##### Numerical Imputer"
   ]
  },
  {
   "cell_type": "code",
   "execution_count": 10,
   "metadata": {},
   "outputs": [],
   "source": [
    "from sklearn.experimental import enable_iterative_imputer\n",
    "from sklearn.impute import IterativeImputer\n",
    "\n",
    "columns_to_impute = [\"fuel_consumption_l_100km\", \"power_kw\"]\n",
    "\n",
    "# Create IterativeImputer\n",
    "numerical_imputer = IterativeImputer(max_iter=10, random_state=0)\n",
    "df[columns_to_impute] = numerical_imputer.fit_transform(df[columns_to_impute])\n",
    "\n",
    "#Remove Unknown values from the transmission_type column\n",
    "df = df[df.transmission_type != \"Unknown\"]"
   ]
  },
  {
   "cell_type": "code",
   "execution_count": 11,
   "metadata": {},
   "outputs": [
    {
     "data": {
      "text/plain": [
       "Unnamed: 0                    0\n",
       "brand                         0\n",
       "model                         0\n",
       "color                       166\n",
       "registration_date             4\n",
       "year                          0\n",
       "price_in_euro                 0\n",
       "power_kw                      0\n",
       "power_ps                    127\n",
       "transmission_type             0\n",
       "fuel_type                     0\n",
       "fuel_consumption_l_100km      0\n",
       "fuel_consumption_g_km         0\n",
       "mileage_in_km               151\n",
       "offer_description             1\n",
       "dtype: int64"
      ]
     },
     "execution_count": 11,
     "metadata": {},
     "output_type": "execute_result"
    }
   ],
   "source": [
    "df.isnull().sum()"
   ]
  },
  {
   "cell_type": "markdown",
   "metadata": {},
   "source": [
    "##### Handling Outliers"
   ]
  },
  {
   "cell_type": "code",
   "execution_count": 12,
   "metadata": {},
   "outputs": [
    {
     "name": "stderr",
     "output_type": "stream",
     "text": [
      "C:\\Users\\Yahia\\AppData\\Local\\Temp\\ipykernel_14656\\3547631211.py:12: SettingWithCopyWarning: \n",
      "A value is trying to be set on a copy of a slice from a DataFrame.\n",
      "Try using .loc[row_indexer,col_indexer] = value instead\n",
      "\n",
      "See the caveats in the documentation: https://pandas.pydata.org/pandas-docs/stable/user_guide/indexing.html#returning-a-view-versus-a-copy\n",
      "  filtered_df[\"power_kw_discretized\"] = pd.cut(\n"
     ]
    }
   ],
   "source": [
    "import pandas as pd\n",
    "from scipy.stats import zscore\n",
    "\n",
    "df[\"power_kw_zscore\"] = zscore(df[\"power_kw\"])\n",
    "\n",
    "# Set a threshold for Z-scores\n",
    "zscore_threshold = 3\n",
    "filtered_df = df[abs(df[\"power_kw_zscore\"]) <= zscore_threshold]\n",
    "\n",
    "# Discretize the filtered power_kw column\n",
    "num_bins = 10\n",
    "filtered_df[\"power_kw_discretized\"] = pd.cut(\n",
    "    filtered_df[\"power_kw\"], bins=num_bins, labels=False\n",
    ")"
   ]
  },
  {
   "cell_type": "markdown",
   "metadata": {},
   "source": [
    "##### Visualization"
   ]
  },
  {
   "cell_type": "markdown",
   "metadata": {},
   "source": [
    "###### Discretize fuel_consumption_l_100km"
   ]
  },
  {
   "cell_type": "code",
   "execution_count": 13,
   "metadata": {},
   "outputs": [
    {
     "name": "stderr",
     "output_type": "stream",
     "text": [
      "C:\\Users\\Yahia\\AppData\\Local\\Temp\\ipykernel_14656\\3268949789.py:2: SettingWithCopyWarning: \n",
      "A value is trying to be set on a copy of a slice from a DataFrame.\n",
      "Try using .loc[row_indexer,col_indexer] = value instead\n",
      "\n",
      "See the caveats in the documentation: https://pandas.pydata.org/pandas-docs/stable/user_guide/indexing.html#returning-a-view-versus-a-copy\n",
      "  filtered_df[\"fuel_consumption_l_100km_discretized\"] = pd.cut(\n"
     ]
    }
   ],
   "source": [
    "# Discretize fuel_consumption_l_100km\n",
    "filtered_df[\"fuel_consumption_l_100km_discretized\"] = pd.cut(\n",
    "    filtered_df[\"fuel_consumption_l_100km\"], bins=num_bins, labels=False\n",
    ")\n",
    "\n"
   ]
  },
  {
   "cell_type": "code",
   "execution_count": 27,
   "metadata": {},
   "outputs": [
    {
     "name": "stderr",
     "output_type": "stream",
     "text": [
      "c:\\Users\\Yahia\\AppData\\Local\\Programs\\Python\\Python311\\Lib\\site-packages\\seaborn\\axisgrid.py:712: UserWarning: Using the barplot function without specifying `order` is likely to produce an incorrect plot.\n",
      "  warnings.warn(warning)\n"
     ]
    },
    {
     "data": {
      "image/png": "[encoded data removed]",
      "text/plain": [
       "<Figure size 2160x500 with 4 Axes>"
      ]
     },
     "metadata": {},
     "output_type": "display_data"
    }
   ],
   "source": [
    "# Import necessary libraries\n",
    "import seaborn as sns\n",
    "import matplotlib.pyplot as plt\n",
    "\n",
    "# Create a FacetGrid\n",
    "g = sns.FacetGrid(\n",
    "    df, col=\"transmission_type\", hue=\"transmission_type\", palette=\"Set1\", height=5\n",
    ")\n",
    "\n",
    "# Scatter plot between power_kw and fuel_consumption_l_100km for each transmission type\n",
    "g.map(sns.barplot, \"fuel_consumption_l_100km\", \"power_kw\", alpha=0.7)\n",
    "\n",
    "# Set axis labels and title\n",
    "g.set_axis_labels(\"Power (kW)\", \"Fuel Consumption (L/100km)\")\n",
    "g.fig.suptitle(\"Fuel Consumption vs. Power by Transmission Type\", y=1.02)\n",
    "\n",
    "# Add legend\n",
    "g.add_legend(title=\"Transmission Type\")\n",
    "\n",
    "# Show the plot\n",
    "plt.show()"
   ]
  },
  {
   "cell_type": "markdown",
   "metadata": {},
   "source": [
    "## Research Question 1:\n",
    " #### How does the fuel efficiency (fuel consumption in liters per 100 kilometers) of German used cars in 2023 vary based on their transmission type and power (measured in kilowatts)?\n",
    "\n",
    "\n",
    "#### Power and Fuel Consumption Correlation:\n",
    "##### Fuel usage and power seem to be negatively correlated in general. Powerful cars might have more fuel-efficient engines, which would reduce fuel usage. The engine's efficiency and design have a big impact on this relationship.\n",
    "\n",
    "\n",
    "##### Relationship between Fuel Consumption and Gearbox Type:\n",
    "##### When opposed to manual gearboxes, automatic transmissions are frequently linked to somewhat higher fuel consumption. In some driving situations, automatic transmissions could not be as fuel-efficient because they might need more power to function. Drivers with manual transmissions have more control over changing gears, which may result in increased fuel economy.\n",
    "\n"
   ]
  },
  {
   "cell_type": "markdown",
   "metadata": {},
   "source": [
    "## Research question 2"
   ]
  },
  {
   "cell_type": "markdown",
   "metadata": {},
   "source": [
    "#### Removing Wrong Data Type"
   ]
  },
  {
   "cell_type": "code",
   "execution_count": 15,
   "metadata": {},
   "outputs": [],
   "source": [
    "df[\"price_in_euro\"] = pd.to_numeric(\n",
    "    df[\"price_in_euro\"].replace(regex=True, to_replace=r\"[^0-9.]\", value=\"\"),\n",
    "    errors=\"coerce\",\n",
    ")\n",
    "df[\"price_in_euro\"] = pd.to_numeric(df[\"price_in_euro\"], errors=\"coerce\")\n",
    "df[\"price_in_euro\"] = df[\"price_in_euro\"].apply(\n",
    "    lambda x: max(x, 0) if pd.notnull(x) else x\n",
    ")"
   ]
  },
  {
   "cell_type": "code",
   "execution_count": 16,
   "metadata": {},
   "outputs": [
    {
     "data": {
      "text/plain": [
       "Unnamed: 0                    0\n",
       "brand                         0\n",
       "model                         0\n",
       "color                       166\n",
       "registration_date             4\n",
       "year                          0\n",
       "price_in_euro               165\n",
       "power_kw                      0\n",
       "power_ps                    127\n",
       "transmission_type             0\n",
       "fuel_type                     0\n",
       "fuel_consumption_l_100km      0\n",
       "fuel_consumption_g_km         0\n",
       "mileage_in_km               151\n",
       "offer_description             1\n",
       "power_kw_zscore               0\n",
       "dtype: int64"
      ]
     },
     "execution_count": 16,
     "metadata": {},
     "output_type": "execute_result"
    }
   ],
   "source": [
    "df.isnull().sum()"
   ]
  },
  {
   "cell_type": "markdown",
   "metadata": {},
   "source": [
    "#### Handling Missing Values"
   ]
  },
  {
   "cell_type": "code",
   "execution_count": 17,
   "metadata": {},
   "outputs": [],
   "source": [
    "columns_to_impute2 = ['price_in_euro']\n",
    "\n",
    "df[columns_to_impute2] = numerical_imputer.fit_transform(df[columns_to_impute2])\n"
   ]
  },
  {
   "cell_type": "code",
   "execution_count": 18,
   "metadata": {},
   "outputs": [
    {
     "data": {
      "text/plain": [
       "Unnamed: 0                    0\n",
       "brand                         0\n",
       "model                         0\n",
       "color                       166\n",
       "registration_date             4\n",
       "year                          0\n",
       "price_in_euro                 0\n",
       "power_kw                      0\n",
       "power_ps                    127\n",
       "transmission_type             0\n",
       "fuel_type                     0\n",
       "fuel_consumption_l_100km      0\n",
       "fuel_consumption_g_km         0\n",
       "mileage_in_km               151\n",
       "offer_description             1\n",
       "power_kw_zscore               0\n",
       "dtype: int64"
      ]
     },
     "execution_count": 18,
     "metadata": {},
     "output_type": "execute_result"
    }
   ],
   "source": [
    "df.isnull().sum()"
   ]
  },
  {
   "cell_type": "markdown",
   "metadata": {},
   "source": [
    "##### Fuel Column Adjustment"
   ]
  },
  {
   "cell_type": "code",
   "execution_count": 19,
   "metadata": {},
   "outputs": [],
   "source": [
    "# remove any non string values from fuel_type column\n",
    "df[\"fuel_type\"] = df[\"fuel_type\"].replace(regex=True, to_replace=r\"[^a-zA-Z]\", value=\"\")\n",
    "# Only include Petrol , Diesel ,Hybrid and Electric\n",
    "df = df[df.fuel_type.isin([\"Petrol\", \"Diesel\", \"Hybrid\", \"Electric\"])]"
   ]
  },
  {
   "cell_type": "markdown",
   "metadata": {},
   "source": [
    "##### Brand Column Adjustment"
   ]
  },
  {
   "cell_type": "code",
   "execution_count": 20,
   "metadata": {},
   "outputs": [],
   "source": [
    "# 5 most used car brands\n",
    "top_5_brands = df[\"brand\"].value_counts().head(5).index.tolist()\n",
    "\n",
    "# use them only for the top 5\n",
    "df = df[df.brand.isin(top_5_brands)]"
   ]
  },
  {
   "cell_type": "markdown",
   "metadata": {},
   "source": [
    "##### Handling Outliers & Discretization"
   ]
  },
  {
   "cell_type": "code",
   "execution_count": 21,
   "metadata": {},
   "outputs": [
    {
     "name": "stderr",
     "output_type": "stream",
     "text": [
      "C:\\Users\\Yahia\\AppData\\Local\\Temp\\ipykernel_14656\\4180917818.py:21: SettingWithCopyWarning: \n",
      "A value is trying to be set on a copy of a slice from a DataFrame.\n",
      "Try using .loc[row_indexer,col_indexer] = value instead\n",
      "\n",
      "See the caveats in the documentation: https://pandas.pydata.org/pandas-docs/stable/user_guide/indexing.html#returning-a-view-versus-a-copy\n",
      "  filtered_df[\"price_in_euro_discretized\"] = pd.cut(\n"
     ]
    }
   ],
   "source": [
    "df[\"price_in_euro_zscore\"] = zscore(df[\"price_in_euro\"])\n",
    "\n",
    "filtered_df = df[abs(df[\"price_in_euro_zscore\"]) <= zscore_threshold]\n",
    "\n",
    "# Calculate mean and standard deviation of price_in_euro\n",
    "mean_price = filtered_df[\"price_in_euro\"].mean()\n",
    "std_price = filtered_df[\"price_in_euro\"].std()\n",
    "\n",
    "# Define custom price ranges using mean and standard deviation\n",
    "price_ranges = [\n",
    "    mean_price - 2 * std_price,\n",
    "    mean_price - std_price,\n",
    "    mean_price,\n",
    "    mean_price + std_price,\n",
    "    mean_price + 2 * std_price,\n",
    "    float(\"inf\"),\n",
    "]\n",
    "labels = list(range(len(price_ranges) - 1))\n",
    "\n",
    "# Discretize the filtered price_in_euro column with custom ranges\n",
    "filtered_df[\"price_in_euro_discretized\"] = pd.cut(\n",
    "    filtered_df[\"price_in_euro\"], bins=price_ranges, labels=labels\n",
    ")"
   ]
  },
  {
   "cell_type": "markdown",
   "metadata": {},
   "source": [
    "##### Visualization"
   ]
  },
  {
   "cell_type": "code",
   "execution_count": 22,
   "metadata": {},
   "outputs": [
    {
     "data": {
      "image/png": "[encoded data removed]",
      "text/plain": [
       "<Figure size 600x600 with 1 Axes>"
      ]
     },
     "metadata": {},
     "output_type": "display_data"
    }
   ],
   "source": [
    "# Bar Chart plot between price_in_euro and brand\n",
    "plt.figure(figsize=(6, 6))\n",
    "sns.barplot(\n",
    "    data=filtered_df,\n",
    "    x=\"brand\",\n",
    "    y=\"price_in_euro\",\n",
    "    hue=\"fuel_type\",\n",
    "    palette=\"Set1\",\n",
    "    alpha=0.7,\n",
    ")\n",
    "plt.xlabel(\"Brand\")\n",
    "plt.ylabel(\"Price in Euro\")\n",
    "plt.title(\"Price in Euro vs. Brand\")\n",
    "plt.show()"
   ]
  },
  {
   "cell_type": "markdown",
   "metadata": {},
   "source": [
    "## Research Question 2:\n",
    "#### Is there a significant difference in the prices of German used cars in 2023 across various brands and fuel types ?\n",
    "\n",
    "\n",
    "#### There is a clear relation ship between price and brand as shown ferrari , lamborghini , mercedes benz , porsche are the most expensive cars\n",
    "\n",
    "\n",
    "##### There is also a clear relationship between price and fuel type as shown petrol and hybrid cars are the most expensive cars , then comes diesel and electric cars\n",
    "\n"
   ]
  }
 ],
 "metadata": {
  "kernelspec": {
   "display_name": "Python 3",
   "language": "python",
   "name": "python3"
  },
  "language_info": {
   "codemirror_mode": {
    "name": "ipython",
    "version": 3
   },
   "file_extension": ".py",
   "mimetype": "text/x-python",
   "name": "python",
   "nbconvert_exporter": "python",
   "pygments_lexer": "ipython3",
   "version": "3.11.2"
  }
 },
 "nbformat": 4,
 "nbformat_minor": 2
}
